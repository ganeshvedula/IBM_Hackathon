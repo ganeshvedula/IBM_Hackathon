{
 "cells": [
  {
   "cell_type": "code",
   "execution_count": 4,
   "metadata": {},
   "outputs": [],
   "source": [
    "# Installing the implicit package \n",
    "# !pip install implicit"
   ]
  },
  {
   "cell_type": "code",
   "execution_count": 9,
   "metadata": {},
   "outputs": [],
   "source": [
    "import pandas as pd\n",
    "import numpy as np\n",
    "import scipy.sparse as sparse\n",
    "# import implicit\n",
    "import random\n",
    "import warnings\n",
    "warnings.filterwarnings('ignore')"
   ]
  },
  {
   "cell_type": "markdown",
   "metadata": {},
   "source": [
    "#### Loading Train and test sets"
   ]
  },
  {
   "cell_type": "code",
   "execution_count": 16,
   "metadata": {},
   "outputs": [
    {
     "data": {
      "text/html": [
       "<div>\n",
       "<style scoped>\n",
       "    .dataframe tbody tr th:only-of-type {\n",
       "        vertical-align: middle;\n",
       "    }\n",
       "\n",
       "    .dataframe tbody tr th {\n",
       "        vertical-align: top;\n",
       "    }\n",
       "\n",
       "    .dataframe thead th {\n",
       "        text-align: right;\n",
       "    }\n",
       "</style>\n",
       "<table border=\"1\" class=\"dataframe\">\n",
       "  <thead>\n",
       "    <tr style=\"text-align: right;\">\n",
       "      <th></th>\n",
       "      <th>CustomerID</th>\n",
       "      <th>InvoiceNo</th>\n",
       "      <th>Quantity</th>\n",
       "      <th>InvoiceDate</th>\n",
       "      <th>UnitPrice</th>\n",
       "      <th>Country</th>\n",
       "      <th>StockCode</th>\n",
       "    </tr>\n",
       "  </thead>\n",
       "  <tbody>\n",
       "    <tr>\n",
       "      <th>0</th>\n",
       "      <td>27270</td>\n",
       "      <td>27270</td>\n",
       "      <td>7</td>\n",
       "      <td>01/12/10 8:26</td>\n",
       "      <td>2.55</td>\n",
       "      <td>PX</td>\n",
       "      <td>85123AY</td>\n",
       "    </tr>\n",
       "    <tr>\n",
       "      <th>1</th>\n",
       "      <td>27270</td>\n",
       "      <td>27270</td>\n",
       "      <td>7</td>\n",
       "      <td>01/12/10 8:26</td>\n",
       "      <td>3.39</td>\n",
       "      <td>PX</td>\n",
       "      <td>71053R</td>\n",
       "    </tr>\n",
       "    <tr>\n",
       "      <th>2</th>\n",
       "      <td>27270</td>\n",
       "      <td>27270</td>\n",
       "      <td>9</td>\n",
       "      <td>01/12/10 8:26</td>\n",
       "      <td>2.75</td>\n",
       "      <td>PX</td>\n",
       "      <td>84406BH</td>\n",
       "    </tr>\n",
       "    <tr>\n",
       "      <th>3</th>\n",
       "      <td>27270</td>\n",
       "      <td>27270</td>\n",
       "      <td>7</td>\n",
       "      <td>01/12/10 8:26</td>\n",
       "      <td>3.39</td>\n",
       "      <td>PX</td>\n",
       "      <td>84029GV</td>\n",
       "    </tr>\n",
       "    <tr>\n",
       "      <th>4</th>\n",
       "      <td>27270</td>\n",
       "      <td>27270</td>\n",
       "      <td>7</td>\n",
       "      <td>01/12/10 8:26</td>\n",
       "      <td>3.39</td>\n",
       "      <td>PX</td>\n",
       "      <td>84029EX</td>\n",
       "    </tr>\n",
       "  </tbody>\n",
       "</table>\n",
       "</div>"
      ],
      "text/plain": [
       "   CustomerID  InvoiceNo  Quantity    InvoiceDate  UnitPrice Country StockCode\n",
       "0       27270      27270         7  01/12/10 8:26       2.55      PX   85123AY\n",
       "1       27270      27270         7  01/12/10 8:26       3.39      PX    71053R\n",
       "2       27270      27270         9  01/12/10 8:26       2.75      PX   84406BH\n",
       "3       27270      27270         7  01/12/10 8:26       3.39      PX   84029GV\n",
       "4       27270      27270         7  01/12/10 8:26       3.39      PX   84029EX"
      ]
     },
     "execution_count": 16,
     "metadata": {},
     "output_type": "execute_result"
    }
   ],
   "source": [
    "df_train = pd.read_csv('train_5UKooLv.csv')\n",
    "df_train.head()"
   ]
  },
  {
   "cell_type": "code",
   "execution_count": 17,
   "metadata": {},
   "outputs": [
    {
     "data": {
      "text/html": [
       "<div>\n",
       "<style scoped>\n",
       "    .dataframe tbody tr th:only-of-type {\n",
       "        vertical-align: middle;\n",
       "    }\n",
       "\n",
       "    .dataframe tbody tr th {\n",
       "        vertical-align: top;\n",
       "    }\n",
       "\n",
       "    .dataframe thead th {\n",
       "        text-align: right;\n",
       "    }\n",
       "</style>\n",
       "<table border=\"1\" class=\"dataframe\">\n",
       "  <thead>\n",
       "    <tr style=\"text-align: right;\">\n",
       "      <th></th>\n",
       "      <th>Country</th>\n",
       "      <th>CustomerID</th>\n",
       "      <th>InvoiceDate</th>\n",
       "      <th>InvoiceNo</th>\n",
       "      <th>Quantity</th>\n",
       "      <th>StockCode</th>\n",
       "      <th>UnitPrice</th>\n",
       "    </tr>\n",
       "  </thead>\n",
       "  <tbody>\n",
       "    <tr>\n",
       "      <th>0</th>\n",
       "      <td>PX</td>\n",
       "      <td>127269</td>\n",
       "      <td>01/12/10 8:28</td>\n",
       "      <td>127269</td>\n",
       "      <td>7</td>\n",
       "      <td>22633V</td>\n",
       "      <td>1.85</td>\n",
       "    </tr>\n",
       "    <tr>\n",
       "      <th>1</th>\n",
       "      <td>PX</td>\n",
       "      <td>227268</td>\n",
       "      <td>01/12/10 8:34</td>\n",
       "      <td>227268</td>\n",
       "      <td>38</td>\n",
       "      <td>84879M</td>\n",
       "      <td>1.69</td>\n",
       "    </tr>\n",
       "    <tr>\n",
       "      <th>2</th>\n",
       "      <td>PX</td>\n",
       "      <td>227268</td>\n",
       "      <td>01/12/10 8:34</td>\n",
       "      <td>227268</td>\n",
       "      <td>7</td>\n",
       "      <td>22748P</td>\n",
       "      <td>2.10</td>\n",
       "    </tr>\n",
       "    <tr>\n",
       "      <th>3</th>\n",
       "      <td>PX</td>\n",
       "      <td>227268</td>\n",
       "      <td>01/12/10 8:34</td>\n",
       "      <td>227268</td>\n",
       "      <td>9</td>\n",
       "      <td>22749K</td>\n",
       "      <td>3.75</td>\n",
       "    </tr>\n",
       "    <tr>\n",
       "      <th>4</th>\n",
       "      <td>PX</td>\n",
       "      <td>227268</td>\n",
       "      <td>01/12/10 8:34</td>\n",
       "      <td>227268</td>\n",
       "      <td>2</td>\n",
       "      <td>22622G</td>\n",
       "      <td>9.95</td>\n",
       "    </tr>\n",
       "  </tbody>\n",
       "</table>\n",
       "</div>"
      ],
      "text/plain": [
       "  Country  CustomerID    InvoiceDate  InvoiceNo  Quantity StockCode  UnitPrice\n",
       "0      PX      127269  01/12/10 8:28     127269         7    22633V       1.85\n",
       "1      PX      227268  01/12/10 8:34     227268        38    84879M       1.69\n",
       "2      PX      227268  01/12/10 8:34     227268         7    22748P       2.10\n",
       "3      PX      227268  01/12/10 8:34     227268         9    22749K       3.75\n",
       "4      PX      227268  01/12/10 8:34     227268         2    22622G       9.95"
      ]
     },
     "execution_count": 17,
     "metadata": {},
     "output_type": "execute_result"
    }
   ],
   "source": [
    "df_test = pd.read_csv('test_J1hm2KQ.csv', usecols = df_train.columns)\n",
    "df_test.head()"
   ]
  },
  {
   "cell_type": "markdown",
   "metadata": {},
   "source": [
    "#### EDA train and test data"
   ]
  },
  {
   "cell_type": "code",
   "execution_count": 22,
   "metadata": {},
   "outputs": [
    {
     "name": "stdout",
     "output_type": "stream",
     "text": [
      "No of unique customers in train_set - 972\n",
      "No of unique items in train_set - 3810\n"
     ]
    }
   ],
   "source": [
    "# Number of customers and their purchases in train set\n",
    "print('No of unique customers in train_set - '+ format(df_train['CustomerID'].nunique()))\n",
    "print('No of unique items in train_set - '+ format(df_train['StockCode'].nunique()))"
   ]
  },
  {
   "cell_type": "code",
   "execution_count": 23,
   "metadata": {},
   "outputs": [
    {
     "name": "stdout",
     "output_type": "stream",
     "text": [
      "No of unique customers in test_set - 628\n",
      "No of unique items in test_set - 3522\n"
     ]
    }
   ],
   "source": [
    "# Number of customers and their purchases in test set\n",
    "print('No of unique customers in test_set - '+ format(df_test['CustomerID'].nunique()))\n",
    "print('No of unique items in test_set - '+ format(df_test['StockCode'].nunique()))"
   ]
  },
  {
   "cell_type": "code",
   "execution_count": 34,
   "metadata": {},
   "outputs": [
    {
     "name": "stdout",
     "output_type": "stream",
     "text": [
      "Train_shape  - (330575, 7)\n",
      "Test_shape  - (103097, 7)\n"
     ]
    }
   ],
   "source": [
    "# shape of train and test sets\n",
    "print('Train_shape  - ' + format(df_train.shape))\n",
    "print('Test_shape  - ' + format(df_test.shape))"
   ]
  },
  {
   "cell_type": "code",
   "execution_count": 45,
   "metadata": {},
   "outputs": [
    {
     "name": "stdout",
     "output_type": "stream",
     "text": [
      "No of items in train set that are in test set - 3472\n",
      "No of items in train set that are not in test set - 338\n"
     ]
    }
   ],
   "source": [
    "# No of items in train set that are in test set\n",
    "print('No of items in train set that are in test set - ' + format(df_train[df_train['StockCode'].isin(df_test['StockCode'])]['StockCode'].nunique()))\n",
    "print('No of items in train set that are not in test set - ' + format(df_train[~df_train['StockCode'].isin(df_test['StockCode'])]['StockCode'].nunique()))"
   ]
  },
  {
   "cell_type": "code",
   "execution_count": 46,
   "metadata": {},
   "outputs": [
    {
     "name": "stdout",
     "output_type": "stream",
     "text": [
      "No of items in test set that are in train set - 3472\n",
      "No of items in test set that are not in train set - 50\n"
     ]
    }
   ],
   "source": [
    "# No of items in test set that are in train set\n",
    "print('No of items in test set that are in train set - ' + format(df_test[df_test['StockCode'].isin(df_train['StockCode'])]['StockCode'].nunique()))\n",
    "print('No of items in test set that are not in train set - ' + format(df_test[~df_test['StockCode'].isin(df_train['StockCode'])]['StockCode'].nunique()))"
   ]
  },
  {
   "cell_type": "markdown",
   "metadata": {},
   "source": [
    "There 338 extra stock codes in train set whereas 50 in test set"
   ]
  },
  {
   "cell_type": "code",
   "execution_count": 48,
   "metadata": {},
   "outputs": [
    {
     "data": {
      "text/html": [
       "<div>\n",
       "<style scoped>\n",
       "    .dataframe tbody tr th:only-of-type {\n",
       "        vertical-align: middle;\n",
       "    }\n",
       "\n",
       "    .dataframe tbody tr th {\n",
       "        vertical-align: top;\n",
       "    }\n",
       "\n",
       "    .dataframe thead th {\n",
       "        text-align: right;\n",
       "    }\n",
       "</style>\n",
       "<table border=\"1\" class=\"dataframe\">\n",
       "  <thead>\n",
       "    <tr style=\"text-align: right;\">\n",
       "      <th></th>\n",
       "      <th>StockCode</th>\n",
       "    </tr>\n",
       "    <tr>\n",
       "      <th>CustomerID</th>\n",
       "      <th></th>\n",
       "    </tr>\n",
       "  </thead>\n",
       "  <tbody>\n",
       "    <tr>\n",
       "      <th>0</th>\n",
       "      <td>390</td>\n",
       "    </tr>\n",
       "    <tr>\n",
       "      <th>900</th>\n",
       "      <td>826</td>\n",
       "    </tr>\n",
       "    <tr>\n",
       "      <th>1800</th>\n",
       "      <td>736</td>\n",
       "    </tr>\n",
       "    <tr>\n",
       "      <th>2790</th>\n",
       "      <td>393</td>\n",
       "    </tr>\n",
       "    <tr>\n",
       "      <th>4590</th>\n",
       "      <td>252</td>\n",
       "    </tr>\n",
       "    <tr>\n",
       "      <th>5400</th>\n",
       "      <td>399</td>\n",
       "    </tr>\n",
       "    <tr>\n",
       "      <th>6300</th>\n",
       "      <td>240</td>\n",
       "    </tr>\n",
       "    <tr>\n",
       "      <th>6390</th>\n",
       "      <td>638</td>\n",
       "    </tr>\n",
       "    <tr>\n",
       "      <th>7200</th>\n",
       "      <td>263</td>\n",
       "    </tr>\n",
       "    <tr>\n",
       "      <th>7290</th>\n",
       "      <td>1020</td>\n",
       "    </tr>\n",
       "  </tbody>\n",
       "</table>\n",
       "</div>"
      ],
      "text/plain": [
       "            StockCode\n",
       "CustomerID           \n",
       "0                 390\n",
       "900               826\n",
       "1800              736\n",
       "2790              393\n",
       "4590              252\n",
       "5400              399\n",
       "6300              240\n",
       "6390              638\n",
       "7200              263\n",
       "7290             1020"
      ]
     },
     "execution_count": 48,
     "metadata": {},
     "output_type": "execute_result"
    }
   ],
   "source": [
    "# No of items purchased by each customer in train set\n",
    "pd.DataFrame(df_train.groupby('CustomerID')['StockCode'].count()).head(10)"
   ]
  },
  {
   "cell_type": "code",
   "execution_count": 49,
   "metadata": {},
   "outputs": [
    {
     "data": {
      "text/html": [
       "<div>\n",
       "<style scoped>\n",
       "    .dataframe tbody tr th:only-of-type {\n",
       "        vertical-align: middle;\n",
       "    }\n",
       "\n",
       "    .dataframe tbody tr th {\n",
       "        vertical-align: top;\n",
       "    }\n",
       "\n",
       "    .dataframe thead th {\n",
       "        text-align: right;\n",
       "    }\n",
       "</style>\n",
       "<table border=\"1\" class=\"dataframe\">\n",
       "  <thead>\n",
       "    <tr style=\"text-align: right;\">\n",
       "      <th></th>\n",
       "      <th>StockCode</th>\n",
       "    </tr>\n",
       "    <tr>\n",
       "      <th>CustomerID</th>\n",
       "      <th></th>\n",
       "    </tr>\n",
       "  </thead>\n",
       "  <tbody>\n",
       "    <tr>\n",
       "      <th>1890</th>\n",
       "      <td>8</td>\n",
       "    </tr>\n",
       "    <tr>\n",
       "      <th>2700</th>\n",
       "      <td>534</td>\n",
       "    </tr>\n",
       "    <tr>\n",
       "      <th>3600</th>\n",
       "      <td>223</td>\n",
       "    </tr>\n",
       "    <tr>\n",
       "      <th>3690</th>\n",
       "      <td>269</td>\n",
       "    </tr>\n",
       "    <tr>\n",
       "      <th>4500</th>\n",
       "      <td>224</td>\n",
       "    </tr>\n",
       "    <tr>\n",
       "      <th>5490</th>\n",
       "      <td>207</td>\n",
       "    </tr>\n",
       "    <tr>\n",
       "      <th>8190</th>\n",
       "      <td>350</td>\n",
       "    </tr>\n",
       "    <tr>\n",
       "      <th>9090</th>\n",
       "      <td>443</td>\n",
       "    </tr>\n",
       "    <tr>\n",
       "      <th>13680</th>\n",
       "      <td>142</td>\n",
       "    </tr>\n",
       "    <tr>\n",
       "      <th>14490</th>\n",
       "      <td>147</td>\n",
       "    </tr>\n",
       "  </tbody>\n",
       "</table>\n",
       "</div>"
      ],
      "text/plain": [
       "            StockCode\n",
       "CustomerID           \n",
       "1890                8\n",
       "2700              534\n",
       "3600              223\n",
       "3690              269\n",
       "4500              224\n",
       "5490              207\n",
       "8190              350\n",
       "9090              443\n",
       "13680             142\n",
       "14490             147"
      ]
     },
     "execution_count": 49,
     "metadata": {},
     "output_type": "execute_result"
    }
   ],
   "source": [
    "# No of items purchased by each customer in test set\n",
    "pd.DataFrame(df_test.groupby('CustomerID')['StockCode'].count()).head(10)"
   ]
  },
  {
   "cell_type": "markdown",
   "metadata": {},
   "source": [
    "It is given that in the test set only 50% transactions of the customers have been provided and we need to recommend the additional 50% transactions "
   ]
  },
  {
   "cell_type": "code",
   "execution_count": 55,
   "metadata": {},
   "outputs": [
    {
     "data": {
      "text/plain": [
       "CustomerID     5588\n",
       "InvoiceNo      5588\n",
       "Quantity       5588\n",
       "InvoiceDate    5588\n",
       "UnitPrice      5588\n",
       "Country        5588\n",
       "StockCode      5588\n",
       "dtype: int64"
      ]
     },
     "execution_count": 55,
     "metadata": {},
     "output_type": "execute_result"
    }
   ],
   "source": [
    "# Now let us look at the quantity of the items in train set\n",
    "df_train[df_train.Quantity <= 0].count()"
   ]
  },
  {
   "cell_type": "code",
   "execution_count": 56,
   "metadata": {},
   "outputs": [
    {
     "data": {
      "text/plain": [
       "Country        1762\n",
       "CustomerID     1762\n",
       "InvoiceDate    1762\n",
       "InvoiceNo      1762\n",
       "Quantity       1762\n",
       "StockCode      1762\n",
       "UnitPrice      1762\n",
       "dtype: int64"
      ]
     },
     "execution_count": 56,
     "metadata": {},
     "output_type": "execute_result"
    }
   ],
   "source": [
    "# Now let us look at the quantity of the items in test set\n",
    "df_test[df_test.Quantity <= 0].count()"
   ]
  },
  {
   "cell_type": "markdown",
   "metadata": {},
   "source": [
    "It seems like there are 5588 items in train set and 1762 items in test set that are returned to the store or received free"
   ]
  },
  {
   "cell_type": "markdown",
   "metadata": {},
   "source": [
    "We have seen that there are 338 additional stock codes in train set and 50 in test set so let us merge those 338 additional stock codes to the test set so that we can form a user-item matrix from test set"
   ]
  },
  {
   "cell_type": "code",
   "execution_count": 57,
   "metadata": {},
   "outputs": [],
   "source": [
    "df_train_additional = df_train[~df_train['StockCode'].isin(df_test['StockCode'])]"
   ]
  },
  {
   "cell_type": "code",
   "execution_count": 61,
   "metadata": {},
   "outputs": [],
   "source": [
    "test_train_merge = pd.concat([df_test,df_train_additional])"
   ]
  },
  {
   "cell_type": "markdown",
   "metadata": {},
   "source": [
    "#### Pre-processing data"
   ]
  },
  {
   "cell_type": "code",
   "execution_count": 74,
   "metadata": {},
   "outputs": [],
   "source": [
    "test_train_merge['CustomerID'] = test_train_merge.CustomerID.astype(int) # Convert to int for customer ID\n",
    "test_train_merge = test_train_merge[['StockCode', 'Quantity', 'CustomerID']] # Get rid of unnecessary info\n",
    "merged = test_train_merge.groupby(['CustomerID', 'StockCode']).sum().reset_index() # Group together\n",
    "merged.Quantity.loc[merged.Quantity == 0] = 1 # Replace a sum of zero purchases with a one to indicate purchased\n",
    "grouped_purchased = merged.query('Quantity > 0') # Only get customers where purchase totals were positive"
   ]
  },
  {
   "cell_type": "code",
   "execution_count": 75,
   "metadata": {},
   "outputs": [],
   "source": [
    "# Mapping customer id and stock id to an integer\n",
    "# Create mappings\n",
    "STOCKCODE_to_idx = {}\n",
    "idx_to_STOCKCODE = {}\n",
    "for (idx, StockCode) in enumerate(grouped_purchased.StockCode.unique().tolist()):\n",
    "    STOCKCODE_to_idx[StockCode] = idx\n",
    "    idx_to_STOCKCODE[idx] = StockCode\n",
    "#     print(idx)\n",
    "    \n",
    "CUDTOMER_ID_to_idx = {}\n",
    "idx_to_CUSTOMER_ID = {}\n",
    "for (idx, CustomerID) in enumerate(grouped_purchased.CustomerID.unique().tolist()):\n",
    "    CUDTOMER_ID_to_idx[CustomerID] = idx\n",
    "    idx_to_CUSTOMER_ID[idx] = CustomerID\n",
    "#     print(idx)"
   ]
  },
  {
   "cell_type": "code",
   "execution_count": 76,
   "metadata": {},
   "outputs": [
    {
     "data": {
      "text/html": [
       "<div>\n",
       "<style scoped>\n",
       "    .dataframe tbody tr th:only-of-type {\n",
       "        vertical-align: middle;\n",
       "    }\n",
       "\n",
       "    .dataframe tbody tr th {\n",
       "        vertical-align: top;\n",
       "    }\n",
       "\n",
       "    .dataframe thead th {\n",
       "        text-align: right;\n",
       "    }\n",
       "</style>\n",
       "<table border=\"1\" class=\"dataframe\">\n",
       "  <thead>\n",
       "    <tr style=\"text-align: right;\">\n",
       "      <th></th>\n",
       "      <th>CustomerID</th>\n",
       "      <th>StockCode</th>\n",
       "      <th>Quantity</th>\n",
       "      <th>HASH_CUSTOMER_ID</th>\n",
       "      <th>HASH_STOCK_ID</th>\n",
       "    </tr>\n",
       "  </thead>\n",
       "  <tbody>\n",
       "    <tr>\n",
       "      <th>0</th>\n",
       "      <td>0</td>\n",
       "      <td>90146B</td>\n",
       "      <td>1</td>\n",
       "      <td>0</td>\n",
       "      <td>0</td>\n",
       "    </tr>\n",
       "    <tr>\n",
       "      <th>2</th>\n",
       "      <td>1800</td>\n",
       "      <td>84985AB</td>\n",
       "      <td>1</td>\n",
       "      <td>1</td>\n",
       "      <td>1</td>\n",
       "    </tr>\n",
       "    <tr>\n",
       "      <th>3</th>\n",
       "      <td>1800</td>\n",
       "      <td>85018DI</td>\n",
       "      <td>1</td>\n",
       "      <td>1</td>\n",
       "      <td>2</td>\n",
       "    </tr>\n",
       "    <tr>\n",
       "      <th>4</th>\n",
       "      <td>1800</td>\n",
       "      <td>85231bJ</td>\n",
       "      <td>1</td>\n",
       "      <td>1</td>\n",
       "      <td>3</td>\n",
       "    </tr>\n",
       "    <tr>\n",
       "      <th>5</th>\n",
       "      <td>1890</td>\n",
       "      <td>21080R</td>\n",
       "      <td>4</td>\n",
       "      <td>2</td>\n",
       "      <td>4</td>\n",
       "    </tr>\n",
       "  </tbody>\n",
       "</table>\n",
       "</div>"
      ],
      "text/plain": [
       "   CustomerID StockCode  Quantity  HASH_CUSTOMER_ID  HASH_STOCK_ID\n",
       "0           0    90146B         1                 0              0\n",
       "2        1800   84985AB         1                 1              1\n",
       "3        1800   85018DI         1                 1              2\n",
       "4        1800   85231bJ         1                 1              3\n",
       "5        1890    21080R         4                 2              4"
      ]
     },
     "metadata": {},
     "output_type": "display_data"
    }
   ],
   "source": [
    "grouped_purchased['HASH_CUSTOMER_ID'] = grouped_purchased['CustomerID'].map(CUDTOMER_ID_to_idx)\n",
    "grouped_purchased['HASH_STOCK_ID'] = grouped_purchased['StockCode'].map(STOCKCODE_to_idx)\n",
    "display(grouped_purchased.head(5))"
   ]
  },
  {
   "cell_type": "code",
   "execution_count": 77,
   "metadata": {},
   "outputs": [],
   "source": [
    "# Aa dataframe of unique stock code\n",
    "item_lookup =  pd.DataFrame(grouped_purchased[['StockCode','HASH_STOCK_ID']].drop_duplicates())\n",
    "item_lookup['StockCode'] = item_lookup.StockCode.astype(str) # Encode as strings for future lookup ease"
   ]
  },
  {
   "cell_type": "code",
   "execution_count": 78,
   "metadata": {},
   "outputs": [],
   "source": [
    "# Calculating number of unique customers and items for building a ratings matrix\n",
    "n_customers = grouped_purchased.HASH_CUSTOMER_ID.nunique()\n",
    "n_items = grouped_purchased.HASH_STOCK_ID.nunique()"
   ]
  },
  {
   "cell_type": "code",
   "execution_count": 81,
   "metadata": {},
   "outputs": [],
   "source": [
    "data_matrix = np.zeros((n_customers, n_items))\n",
    "\n",
    "#populate the matrix based on the dataset\n",
    "for line in grouped_purchased.itertuples():\n",
    "    data_matrix[line[4], line[5]] = line[3]\n"
   ]
  },
  {
   "cell_type": "code",
   "execution_count": 85,
   "metadata": {},
   "outputs": [],
   "source": [
    "customers = list(np.sort(grouped_purchased.HASH_CUSTOMER_ID.unique())) # Get our unique customers\n",
    "products = list(grouped_purchased.HASH_STOCK_ID.unique()) # Get our unique products that were purchased\n",
    "quantity = list(grouped_purchased.Quantity) # All of our purchases"
   ]
  },
  {
   "cell_type": "markdown",
   "metadata": {},
   "source": [
    "#### Sparsity of the matrix"
   ]
  },
  {
   "cell_type": "code",
   "execution_count": 87,
   "metadata": {},
   "outputs": [
    {
     "name": "stdout",
     "output_type": "stream",
     "text": [
      "Sparsity of the matrix - 97.8670149966088\n"
     ]
    }
   ],
   "source": [
    "matrix_size = data_matrix.shape[0]*data_matrix.shape[1] # Number of possible interactions in the matrix\n",
    "num_purchases = len(data_matrix.nonzero()[0]) # Number of items interacted with\n",
    "sparsity = 100*(1 - (num_purchases/matrix_size))\n",
    "print('Sparsity of the matrix - '+ format(sparsity))"
   ]
  },
  {
   "cell_type": "markdown",
   "metadata": {},
   "source": [
    "For Validating the Recommendation model let us mask some of the values of a customer in data matrix and after finding the recommendations let us check how many recommended items are actually bought by the customer"
   ]
  },
  {
   "cell_type": "code",
   "execution_count": 88,
   "metadata": {},
   "outputs": [],
   "source": [
    "def make_train(ratings, pct_test = 0.2):\n",
    "  \n",
    "    test_set = ratings.copy() # Make a copy of the original set to be the test set. \n",
    "    test_set[test_set != 0] = 1 # Store the test set as a binary preference matrix\n",
    "    test_set = sparse.csr_matrix(test_set)\n",
    "    training_set = ratings.copy() # Make a copy of the original data we can alter as our training set. \n",
    "    nonzero_inds = training_set.nonzero() # Find the indices in the ratings data where an interaction exists\n",
    "    nonzero_pairs = list(zip(nonzero_inds[0], nonzero_inds[1])) # Zip these pairs together of user,item index into list\n",
    "    random.seed(0) # Set the random seed to zero for reproducibility\n",
    "    num_samples = int(np.ceil(pct_test*len(nonzero_pairs))) # Round the number of samples needed to the nearest integer\n",
    "    samples = random.sample(nonzero_pairs, num_samples) # Sample a random number of user-item pairs without replacement\n",
    "    user_inds = [index[0] for index in samples] # Get the user row indices\n",
    "    item_inds = [index[1] for index in samples] # Get the item column indices\n",
    "    training_set[user_inds, item_inds] = 0 # Assign all of the randomly chosen user-item pairs to zero\n",
    "    training_set = sparse.csr_matrix(training_set)\n",
    "    training_set.eliminate_zeros() # Get rid of zeros in sparse array storage after update to save space\n",
    "    return training_set, test_set, list(set(user_inds)) # Output the unique list of user rows that were altered  "
   ]
  },
  {
   "cell_type": "code",
   "execution_count": 89,
   "metadata": {},
   "outputs": [],
   "source": [
    "product_train, product_test, product_users_altered = make_train(data_matrix, pct_test = 0.2)"
   ]
  },
  {
   "cell_type": "code",
   "execution_count": null,
   "metadata": {},
   "outputs": [],
   "source": []
  },
  {
   "cell_type": "code",
   "execution_count": null,
   "metadata": {},
   "outputs": [],
   "source": []
  },
  {
   "cell_type": "code",
   "execution_count": null,
   "metadata": {},
   "outputs": [],
   "source": []
  },
  {
   "cell_type": "code",
   "execution_count": null,
   "metadata": {},
   "outputs": [],
   "source": []
  },
  {
   "cell_type": "code",
   "execution_count": null,
   "metadata": {},
   "outputs": [],
   "source": []
  }
 ],
 "metadata": {
  "kernelspec": {
   "display_name": "Python 3",
   "language": "python",
   "name": "python3"
  },
  "language_info": {
   "codemirror_mode": {
    "name": "ipython",
    "version": 3
   },
   "file_extension": ".py",
   "mimetype": "text/x-python",
   "name": "python",
   "nbconvert_exporter": "python",
   "pygments_lexer": "ipython3",
   "version": "3.6.5"
  }
 },
 "nbformat": 4,
 "nbformat_minor": 2
}
